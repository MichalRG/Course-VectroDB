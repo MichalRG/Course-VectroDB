{
 "cells": [
  {
   "cell_type": "code",
   "execution_count": 1,
   "id": "5d74dbb6-4bac-4128-9bfe-4f40262b89c6",
   "metadata": {},
   "outputs": [],
   "source": [
    "import pandas as pd"
   ]
  },
  {
   "cell_type": "code",
   "execution_count": 2,
   "id": "1f055684-96d6-473f-afaa-8bc4f4f37b0c",
   "metadata": {},
   "outputs": [],
   "source": [
    "df = pd.read_csv(\"medium_post_titles.csv\", nrows=10_000) #limitation for datarows to save space"
   ]
  },
  {
   "cell_type": "code",
   "execution_count": 3,
   "id": "52eb637c-2b9d-48a0-8b46-c8e43d596347",
   "metadata": {},
   "outputs": [
    {
     "data": {
      "text/html": [
       "<div>\n",
       "<style scoped>\n",
       "    .dataframe tbody tr th:only-of-type {\n",
       "        vertical-align: middle;\n",
       "    }\n",
       "\n",
       "    .dataframe tbody tr th {\n",
       "        vertical-align: top;\n",
       "    }\n",
       "\n",
       "    .dataframe thead th {\n",
       "        text-align: right;\n",
       "    }\n",
       "</style>\n",
       "<table border=\"1\" class=\"dataframe\">\n",
       "  <thead>\n",
       "    <tr style=\"text-align: right;\">\n",
       "      <th></th>\n",
       "      <th>category</th>\n",
       "      <th>title</th>\n",
       "      <th>subtitle</th>\n",
       "      <th>subtitle_truncated_flag</th>\n",
       "    </tr>\n",
       "  </thead>\n",
       "  <tbody>\n",
       "    <tr>\n",
       "      <th>0</th>\n",
       "      <td>work</td>\n",
       "      <td>\"21 Conversations\" - A fun (and easy) game for...</td>\n",
       "      <td>A (new?) Icebreaker game to get your team to s...</td>\n",
       "      <td>False</td>\n",
       "    </tr>\n",
       "    <tr>\n",
       "      <th>1</th>\n",
       "      <td>spirituality</td>\n",
       "      <td>\"Biblical Porn\" at Mars Hill</td>\n",
       "      <td>Author and UW lecturer Jessica Johnson talks a...</td>\n",
       "      <td>False</td>\n",
       "    </tr>\n",
       "    <tr>\n",
       "      <th>2</th>\n",
       "      <td>lgbtqia</td>\n",
       "      <td>\"CISGENDER?! Is That A Disease?!\"</td>\n",
       "      <td>Or, a primer in gender vocabulary for the curi...</td>\n",
       "      <td>False</td>\n",
       "    </tr>\n",
       "    <tr>\n",
       "      <th>3</th>\n",
       "      <td>equality</td>\n",
       "      <td>\"Call me Nat Love\" :Black Cowboys and the Fron...</td>\n",
       "      <td>NaN</td>\n",
       "      <td>False</td>\n",
       "    </tr>\n",
       "    <tr>\n",
       "      <th>4</th>\n",
       "      <td>artificial-intelligence</td>\n",
       "      <td>\"Can I Train my Model on Your Computer?\"</td>\n",
       "      <td>How we waste computational resources and how t...</td>\n",
       "      <td>False</td>\n",
       "    </tr>\n",
       "  </tbody>\n",
       "</table>\n",
       "</div>"
      ],
      "text/plain": [
       "                  category                                              title  \\\n",
       "0                     work  \"21 Conversations\" - A fun (and easy) game for...   \n",
       "1             spirituality                       \"Biblical Porn\" at Mars Hill   \n",
       "2                  lgbtqia                  \"CISGENDER?! Is That A Disease?!\"   \n",
       "3                 equality  \"Call me Nat Love\" :Black Cowboys and the Fron...   \n",
       "4  artificial-intelligence           \"Can I Train my Model on Your Computer?\"   \n",
       "\n",
       "                                            subtitle  subtitle_truncated_flag  \n",
       "0  A (new?) Icebreaker game to get your team to s...                    False  \n",
       "1  Author and UW lecturer Jessica Johnson talks a...                    False  \n",
       "2  Or, a primer in gender vocabulary for the curi...                    False  \n",
       "3                                                NaN                    False  \n",
       "4  How we waste computational resources and how t...                    False  "
      ]
     },
     "execution_count": 3,
     "metadata": {},
     "output_type": "execute_result"
    }
   ],
   "source": [
    "df.head()"
   ]
  },
  {
   "cell_type": "code",
   "execution_count": 4,
   "id": "b1bb6a52-e885-4868-873c-d1ad9363dd25",
   "metadata": {},
   "outputs": [
    {
     "data": {
      "text/plain": [
       "subtitle_truncated_flag\n",
       "False    6318\n",
       "True     3682\n",
       "Name: count, dtype: int64"
      ]
     },
     "execution_count": 4,
     "metadata": {},
     "output_type": "execute_result"
    }
   ],
   "source": [
    "df[\"subtitle_truncated_flag\"].value_counts()"
   ]
  },
  {
   "cell_type": "code",
   "execution_count": 5,
   "id": "0253b532-877b-421c-aaf0-c1afdaa62bf2",
   "metadata": {},
   "outputs": [],
   "source": [
    "### Medium article semantic search TITLE + SUBTITLE"
   ]
  },
  {
   "cell_type": "code",
   "execution_count": 6,
   "id": "a5e981ec-ff69-4816-ad7c-9db6f1d39468",
   "metadata": {},
   "outputs": [],
   "source": [
    "## LOADING DATA"
   ]
  },
  {
   "cell_type": "code",
   "execution_count": 7,
   "id": "a57e378b-42eb-44a0-a46b-cc3394d01d5a",
   "metadata": {},
   "outputs": [
    {
     "data": {
      "text/plain": [
       "category                     0\n",
       "title                        0\n",
       "subtitle                   107\n",
       "subtitle_truncated_flag      0\n",
       "dtype: int64"
      ]
     },
     "execution_count": 7,
     "metadata": {},
     "output_type": "execute_result"
    }
   ],
   "source": [
    "df.isna().sum()"
   ]
  },
  {
   "cell_type": "code",
   "execution_count": 8,
   "id": "568e827f-ee5c-4786-83bd-4069167b138e",
   "metadata": {},
   "outputs": [],
   "source": [
    "#cleaning from NaN values\n",
    "df = df.dropna()"
   ]
  },
  {
   "cell_type": "code",
   "execution_count": 9,
   "id": "cfd0d064-1b11-4c67-80d2-46d06dfa8747",
   "metadata": {},
   "outputs": [
    {
     "data": {
      "text/plain": [
       "category                   0\n",
       "title                      0\n",
       "subtitle                   0\n",
       "subtitle_truncated_flag    0\n",
       "dtype: int64"
      ]
     },
     "execution_count": 9,
     "metadata": {},
     "output_type": "execute_result"
    }
   ],
   "source": [
    "df.isna().sum()"
   ]
  },
  {
   "cell_type": "code",
   "execution_count": 10,
   "id": "14a5747c-2d38-47ed-8112-ce79bec59fa7",
   "metadata": {},
   "outputs": [],
   "source": [
    "#only False\n",
    "df = df[~df[\"subtitle_truncated_flag\"]]"
   ]
  },
  {
   "cell_type": "code",
   "execution_count": 11,
   "id": "41c94d68-ba09-474a-a15b-74200ec35a43",
   "metadata": {},
   "outputs": [
    {
     "data": {
      "text/plain": [
       "subtitle_truncated_flag\n",
       "False    6211\n",
       "Name: count, dtype: int64"
      ]
     },
     "execution_count": 11,
     "metadata": {},
     "output_type": "execute_result"
    }
   ],
   "source": [
    "df[\"subtitle_truncated_flag\"].value_counts()"
   ]
  },
  {
   "cell_type": "code",
   "execution_count": 12,
   "id": "a7f75146-3f2b-43cd-99c0-18aa7b593caa",
   "metadata": {},
   "outputs": [
    {
     "data": {
      "text/plain": [
       "(6211, 4)"
      ]
     },
     "execution_count": 12,
     "metadata": {},
     "output_type": "execute_result"
    }
   ],
   "source": [
    "df.shape"
   ]
  },
  {
   "cell_type": "code",
   "execution_count": 13,
   "id": "749def46-9f7c-4f08-bd15-f1f101803b1b",
   "metadata": {},
   "outputs": [],
   "source": [
    "## CLEANING DATA"
   ]
  },
  {
   "cell_type": "code",
   "execution_count": 14,
   "id": "e0696c0c-8eeb-4f65-b8be-30e6e683abd6",
   "metadata": {},
   "outputs": [
    {
     "data": {
      "text/plain": [
       "0       \"21 Conversations\" - A fun (and easy) game for...\n",
       "1                            \"Biblical Porn\" at Mars Hill\n",
       "2                       \"CISGENDER?! Is That A Disease?!\"\n",
       "4                \"Can I Train my Model on Your Computer?\"\n",
       "5       \"Cypherpunks and Wall Street\": The Security To...\n",
       "                              ...                        \n",
       "9994       America Lets Too Much Young Talent Go to Waste\n",
       "9996    America Loves the Idea of Family Farms. That’s...\n",
       "9997    America May Need to Adopt China’s Weapons to W...\n",
       "9998    America May Outsmart China in 5G With AI and B...\n",
       "9999                         America Needs Bernie Sanders\n",
       "Name: title, Length: 6211, dtype: object"
      ]
     },
     "execution_count": 14,
     "metadata": {},
     "output_type": "execute_result"
    }
   ],
   "source": [
    "df[\"title\"]"
   ]
  },
  {
   "cell_type": "code",
   "execution_count": 15,
   "id": "0f3cfba2-226f-4f6a-a546-9dae31a8b3c5",
   "metadata": {},
   "outputs": [],
   "source": [
    "df[\"title_extended\"] = df[\"title\"] + df[\"subtitle\"]"
   ]
  },
  {
   "cell_type": "code",
   "execution_count": 16,
   "id": "2b3622c3-d79a-4430-98a5-049a1161412a",
   "metadata": {},
   "outputs": [
    {
     "data": {
      "text/plain": [
       "93"
      ]
     },
     "execution_count": 16,
     "metadata": {},
     "output_type": "execute_result"
    }
   ],
   "source": [
    "#display unique categories\n",
    "df[\"category\"].nunique()"
   ]
  },
  {
   "cell_type": "code",
   "execution_count": 17,
   "id": "3bc9264d-1a45-4657-99c3-3d677ff9d2e0",
   "metadata": {},
   "outputs": [
    {
     "data": {
      "text/plain": [
       "(6211, 5)"
      ]
     },
     "execution_count": 17,
     "metadata": {},
     "output_type": "execute_result"
    }
   ],
   "source": [
    "df.shape # <-- it says that require above 6 k vectors"
   ]
  },
  {
   "cell_type": "code",
   "execution_count": 18,
   "id": "443cfbde-352b-4006-9556-b44e6731dbb9",
   "metadata": {},
   "outputs": [],
   "source": [
    "## Prep to upsert"
   ]
  },
  {
   "cell_type": "code",
   "execution_count": 19,
   "id": "7ab4be53-0aab-4639-8c6e-8af317c9ac10",
   "metadata": {},
   "outputs": [
    {
     "name": "stderr",
     "output_type": "stream",
     "text": [
      "C:\\Users\\Krzyz\\AppData\\Local\\Temp\\ipykernel_20860\\1844788160.py:1: TqdmExperimentalWarning: Using `tqdm.autonotebook.tqdm` in notebook mode. Use `tqdm.tqdm` instead to force console mode (e.g. in jupyter console)\n",
      "  from tqdm.autonotebook import tqdm\n"
     ]
    }
   ],
   "source": [
    "from tqdm.autonotebook import tqdm\n",
    "import pinecone"
   ]
  },
  {
   "cell_type": "code",
   "execution_count": 20,
   "id": "8ecd5071-7910-4f0a-a939-668789a429df",
   "metadata": {},
   "outputs": [],
   "source": [
    "pinecone.init(api_key=\"API_KEY\", environment=\"gcp-starter\")"
   ]
  },
  {
   "cell_type": "code",
   "execution_count": 22,
   "id": "7ea8c6a2-d72c-4afa-a43a-6da9a60b5bfd",
   "metadata": {},
   "outputs": [],
   "source": [
    "pinecone.create_index(name=\"medium-data\", dimension=384, pod_type=\"starter\", metric=\"cosine\")"
   ]
  },
  {
   "cell_type": "code",
   "execution_count": 23,
   "id": "008f36c4-ccaa-4290-aecc-8b3cee41a59d",
   "metadata": {},
   "outputs": [],
   "source": [
    "from sentence_transformers import SentenceTransformer"
   ]
  },
  {
   "cell_type": "code",
   "execution_count": 24,
   "id": "def34169-94f1-4de1-af8a-fff6c9079b85",
   "metadata": {},
   "outputs": [],
   "source": [
    "import torch"
   ]
  },
  {
   "cell_type": "code",
   "execution_count": 25,
   "id": "c5748fc4-6e3e-481c-aec6-80027878555e",
   "metadata": {},
   "outputs": [
    {
     "data": {
      "application/vnd.jupyter.widget-view+json": {
       "model_id": "715f98c1238d41c98c16044ea6ba0245",
       "version_major": 2,
       "version_minor": 0
      },
      "text/plain": [
       "Downloading .gitattributes:   0%|          | 0.00/1.18k [00:00<?, ?B/s]"
      ]
     },
     "metadata": {},
     "output_type": "display_data"
    },
    {
     "data": {
      "application/vnd.jupyter.widget-view+json": {
       "model_id": "841836c22fac44b9948f2491af575be6",
       "version_major": 2,
       "version_minor": 0
      },
      "text/plain": [
       "Downloading 1_Pooling/config.json:   0%|          | 0.00/190 [00:00<?, ?B/s]"
      ]
     },
     "metadata": {},
     "output_type": "display_data"
    },
    {
     "data": {
      "application/vnd.jupyter.widget-view+json": {
       "model_id": "845662a9c4df42679978a49aef30b275",
       "version_major": 2,
       "version_minor": 0
      },
      "text/plain": [
       "Downloading README.md:   0%|          | 0.00/10.6k [00:00<?, ?B/s]"
      ]
     },
     "metadata": {},
     "output_type": "display_data"
    },
    {
     "data": {
      "application/vnd.jupyter.widget-view+json": {
       "model_id": "a44cf06e868a4da4b934f05e8cfd0fac",
       "version_major": 2,
       "version_minor": 0
      },
      "text/plain": [
       "Downloading config.json:   0%|          | 0.00/612 [00:00<?, ?B/s]"
      ]
     },
     "metadata": {},
     "output_type": "display_data"
    },
    {
     "data": {
      "application/vnd.jupyter.widget-view+json": {
       "model_id": "44e94243459644de84f8d24230dd511a",
       "version_major": 2,
       "version_minor": 0
      },
      "text/plain": [
       "Downloading (…)ce_transformers.json:   0%|          | 0.00/116 [00:00<?, ?B/s]"
      ]
     },
     "metadata": {},
     "output_type": "display_data"
    },
    {
     "data": {
      "application/vnd.jupyter.widget-view+json": {
       "model_id": "2df060c874d04952b0fa6795560b4135",
       "version_major": 2,
       "version_minor": 0
      },
      "text/plain": [
       "Downloading data_config.json:   0%|          | 0.00/39.3k [00:00<?, ?B/s]"
      ]
     },
     "metadata": {},
     "output_type": "display_data"
    },
    {
     "data": {
      "application/vnd.jupyter.widget-view+json": {
       "model_id": "1b79c36ad67f44a583d036e39cc0ab06",
       "version_major": 2,
       "version_minor": 0
      },
      "text/plain": [
       "Downloading pytorch_model.bin:   0%|          | 0.00/90.9M [00:00<?, ?B/s]"
      ]
     },
     "metadata": {},
     "output_type": "display_data"
    },
    {
     "data": {
      "application/vnd.jupyter.widget-view+json": {
       "model_id": "843df9dd69cf4997ab996f7d8ae41cd3",
       "version_major": 2,
       "version_minor": 0
      },
      "text/plain": [
       "Downloading (…)nce_bert_config.json:   0%|          | 0.00/53.0 [00:00<?, ?B/s]"
      ]
     },
     "metadata": {},
     "output_type": "display_data"
    },
    {
     "data": {
      "application/vnd.jupyter.widget-view+json": {
       "model_id": "084cbe706dc3430ea046975876bd2e38",
       "version_major": 2,
       "version_minor": 0
      },
      "text/plain": [
       "Downloading (…)cial_tokens_map.json:   0%|          | 0.00/112 [00:00<?, ?B/s]"
      ]
     },
     "metadata": {},
     "output_type": "display_data"
    },
    {
     "data": {
      "application/vnd.jupyter.widget-view+json": {
       "model_id": "b798232d143243da9eaecf9d84df9fce",
       "version_major": 2,
       "version_minor": 0
      },
      "text/plain": [
       "Downloading tokenizer.json:   0%|          | 0.00/466k [00:00<?, ?B/s]"
      ]
     },
     "metadata": {},
     "output_type": "display_data"
    },
    {
     "data": {
      "application/vnd.jupyter.widget-view+json": {
       "model_id": "be38c61fe25a4e61820800d7be1676bd",
       "version_major": 2,
       "version_minor": 0
      },
      "text/plain": [
       "Downloading tokenizer_config.json:   0%|          | 0.00/350 [00:00<?, ?B/s]"
      ]
     },
     "metadata": {},
     "output_type": "display_data"
    },
    {
     "data": {
      "application/vnd.jupyter.widget-view+json": {
       "model_id": "3a6729d75f6344719b5d5ef11b6b91f8",
       "version_major": 2,
       "version_minor": 0
      },
      "text/plain": [
       "Downloading train_script.py:   0%|          | 0.00/13.2k [00:00<?, ?B/s]"
      ]
     },
     "metadata": {},
     "output_type": "display_data"
    },
    {
     "data": {
      "application/vnd.jupyter.widget-view+json": {
       "model_id": "d4de1e030f8a41348fa99627d926b8f6",
       "version_major": 2,
       "version_minor": 0
      },
      "text/plain": [
       "Downloading vocab.txt:   0%|          | 0.00/232k [00:00<?, ?B/s]"
      ]
     },
     "metadata": {},
     "output_type": "display_data"
    },
    {
     "data": {
      "application/vnd.jupyter.widget-view+json": {
       "model_id": "d79d174516aa4923a88cea06ad434a1f",
       "version_major": 2,
       "version_minor": 0
      },
      "text/plain": [
       "Downloading modules.json:   0%|          | 0.00/349 [00:00<?, ?B/s]"
      ]
     },
     "metadata": {},
     "output_type": "display_data"
    }
   ],
   "source": [
    "model = SentenceTransformer(\"all-MiniLM-L6-v2\", device=\"cpu\")"
   ]
  },
  {
   "cell_type": "code",
   "execution_count": 26,
   "id": "5b5a1710-d78f-439d-9668-acd839013870",
   "metadata": {},
   "outputs": [],
   "source": [
    "df[\"values\"] = df[\"title_extended\"].map(lambda x: (model.encode(x)).tolist()) #encode return numpy array to list converts to python list"
   ]
  },
  {
   "cell_type": "code",
   "execution_count": 27,
   "id": "98f78bd2-97fc-4985-ad17-49d567ffd869",
   "metadata": {},
   "outputs": [
    {
     "data": {
      "text/html": [
       "<div>\n",
       "<style scoped>\n",
       "    .dataframe tbody tr th:only-of-type {\n",
       "        vertical-align: middle;\n",
       "    }\n",
       "\n",
       "    .dataframe tbody tr th {\n",
       "        vertical-align: top;\n",
       "    }\n",
       "\n",
       "    .dataframe thead th {\n",
       "        text-align: right;\n",
       "    }\n",
       "</style>\n",
       "<table border=\"1\" class=\"dataframe\">\n",
       "  <thead>\n",
       "    <tr style=\"text-align: right;\">\n",
       "      <th></th>\n",
       "      <th>category</th>\n",
       "      <th>title</th>\n",
       "      <th>subtitle</th>\n",
       "      <th>subtitle_truncated_flag</th>\n",
       "      <th>title_extended</th>\n",
       "      <th>values</th>\n",
       "    </tr>\n",
       "  </thead>\n",
       "  <tbody>\n",
       "    <tr>\n",
       "      <th>0</th>\n",
       "      <td>work</td>\n",
       "      <td>\"21 Conversations\" - A fun (and easy) game for...</td>\n",
       "      <td>A (new?) Icebreaker game to get your team to s...</td>\n",
       "      <td>False</td>\n",
       "      <td>\"21 Conversations\" - A fun (and easy) game for...</td>\n",
       "      <td>[-0.031074408441781998, -0.014303437434136868,...</td>\n",
       "    </tr>\n",
       "    <tr>\n",
       "      <th>1</th>\n",
       "      <td>spirituality</td>\n",
       "      <td>\"Biblical Porn\" at Mars Hill</td>\n",
       "      <td>Author and UW lecturer Jessica Johnson talks a...</td>\n",
       "      <td>False</td>\n",
       "      <td>\"Biblical Porn\" at Mars HillAuthor and UW lect...</td>\n",
       "      <td>[-0.03467036783695221, -0.01816530153155327, -...</td>\n",
       "    </tr>\n",
       "    <tr>\n",
       "      <th>2</th>\n",
       "      <td>lgbtqia</td>\n",
       "      <td>\"CISGENDER?! Is That A Disease?!\"</td>\n",
       "      <td>Or, a primer in gender vocabulary for the curi...</td>\n",
       "      <td>False</td>\n",
       "      <td>\"CISGENDER?! Is That A Disease?!\"Or, a primer ...</td>\n",
       "      <td>[0.03740726038813591, -0.0008568025659769773, ...</td>\n",
       "    </tr>\n",
       "    <tr>\n",
       "      <th>4</th>\n",
       "      <td>artificial-intelligence</td>\n",
       "      <td>\"Can I Train my Model on Your Computer?\"</td>\n",
       "      <td>How we waste computational resources and how t...</td>\n",
       "      <td>False</td>\n",
       "      <td>\"Can I Train my Model on Your Computer?\"How we...</td>\n",
       "      <td>[-0.013686483725905418, 0.004296026658266783, ...</td>\n",
       "    </tr>\n",
       "    <tr>\n",
       "      <th>5</th>\n",
       "      <td>cryptocurrency</td>\n",
       "      <td>\"Cypherpunks and Wall Street\": The Security To...</td>\n",
       "      <td>Bruce Fenton presents at the World Blockchain ...</td>\n",
       "      <td>False</td>\n",
       "      <td>\"Cypherpunks and Wall Street\": The Security To...</td>\n",
       "      <td>[-0.03146887943148613, -0.004646676126867533, ...</td>\n",
       "    </tr>\n",
       "  </tbody>\n",
       "</table>\n",
       "</div>"
      ],
      "text/plain": [
       "                  category                                              title  \\\n",
       "0                     work  \"21 Conversations\" - A fun (and easy) game for...   \n",
       "1             spirituality                       \"Biblical Porn\" at Mars Hill   \n",
       "2                  lgbtqia                  \"CISGENDER?! Is That A Disease?!\"   \n",
       "4  artificial-intelligence           \"Can I Train my Model on Your Computer?\"   \n",
       "5           cryptocurrency  \"Cypherpunks and Wall Street\": The Security To...   \n",
       "\n",
       "                                            subtitle  subtitle_truncated_flag  \\\n",
       "0  A (new?) Icebreaker game to get your team to s...                    False   \n",
       "1  Author and UW lecturer Jessica Johnson talks a...                    False   \n",
       "2  Or, a primer in gender vocabulary for the curi...                    False   \n",
       "4  How we waste computational resources and how t...                    False   \n",
       "5  Bruce Fenton presents at the World Blockchain ...                    False   \n",
       "\n",
       "                                      title_extended  \\\n",
       "0  \"21 Conversations\" - A fun (and easy) game for...   \n",
       "1  \"Biblical Porn\" at Mars HillAuthor and UW lect...   \n",
       "2  \"CISGENDER?! Is That A Disease?!\"Or, a primer ...   \n",
       "4  \"Can I Train my Model on Your Computer?\"How we...   \n",
       "5  \"Cypherpunks and Wall Street\": The Security To...   \n",
       "\n",
       "                                              values  \n",
       "0  [-0.031074408441781998, -0.014303437434136868,...  \n",
       "1  [-0.03467036783695221, -0.01816530153155327, -...  \n",
       "2  [0.03740726038813591, -0.0008568025659769773, ...  \n",
       "4  [-0.013686483725905418, 0.004296026658266783, ...  \n",
       "5  [-0.03146887943148613, -0.004646676126867533, ...  "
      ]
     },
     "execution_count": 27,
     "metadata": {},
     "output_type": "execute_result"
    }
   ],
   "source": [
    "df.head() #values has index value (vector)"
   ]
  },
  {
   "cell_type": "code",
   "execution_count": 28,
   "id": "d113d074-c449-48b1-9f92-45cde3f637c2",
   "metadata": {},
   "outputs": [],
   "source": [
    "df[\"id\"] = df.reset_index(drop=\"index\").index"
   ]
  },
  {
   "cell_type": "code",
   "execution_count": 29,
   "id": "9fc7179b-4cfe-47c9-8dcd-9a428f741c03",
   "metadata": {},
   "outputs": [
    {
     "data": {
      "text/html": [
       "<div>\n",
       "<style scoped>\n",
       "    .dataframe tbody tr th:only-of-type {\n",
       "        vertical-align: middle;\n",
       "    }\n",
       "\n",
       "    .dataframe tbody tr th {\n",
       "        vertical-align: top;\n",
       "    }\n",
       "\n",
       "    .dataframe thead th {\n",
       "        text-align: right;\n",
       "    }\n",
       "</style>\n",
       "<table border=\"1\" class=\"dataframe\">\n",
       "  <thead>\n",
       "    <tr style=\"text-align: right;\">\n",
       "      <th></th>\n",
       "      <th>category</th>\n",
       "      <th>title</th>\n",
       "      <th>subtitle</th>\n",
       "      <th>subtitle_truncated_flag</th>\n",
       "      <th>title_extended</th>\n",
       "      <th>values</th>\n",
       "      <th>id</th>\n",
       "    </tr>\n",
       "  </thead>\n",
       "  <tbody>\n",
       "    <tr>\n",
       "      <th>0</th>\n",
       "      <td>work</td>\n",
       "      <td>\"21 Conversations\" - A fun (and easy) game for...</td>\n",
       "      <td>A (new?) Icebreaker game to get your team to s...</td>\n",
       "      <td>False</td>\n",
       "      <td>\"21 Conversations\" - A fun (and easy) game for...</td>\n",
       "      <td>[-0.031074408441781998, -0.014303437434136868,...</td>\n",
       "      <td>0</td>\n",
       "    </tr>\n",
       "    <tr>\n",
       "      <th>1</th>\n",
       "      <td>spirituality</td>\n",
       "      <td>\"Biblical Porn\" at Mars Hill</td>\n",
       "      <td>Author and UW lecturer Jessica Johnson talks a...</td>\n",
       "      <td>False</td>\n",
       "      <td>\"Biblical Porn\" at Mars HillAuthor and UW lect...</td>\n",
       "      <td>[-0.03467036783695221, -0.01816530153155327, -...</td>\n",
       "      <td>1</td>\n",
       "    </tr>\n",
       "    <tr>\n",
       "      <th>2</th>\n",
       "      <td>lgbtqia</td>\n",
       "      <td>\"CISGENDER?! Is That A Disease?!\"</td>\n",
       "      <td>Or, a primer in gender vocabulary for the curi...</td>\n",
       "      <td>False</td>\n",
       "      <td>\"CISGENDER?! Is That A Disease?!\"Or, a primer ...</td>\n",
       "      <td>[0.03740726038813591, -0.0008568025659769773, ...</td>\n",
       "      <td>2</td>\n",
       "    </tr>\n",
       "    <tr>\n",
       "      <th>4</th>\n",
       "      <td>artificial-intelligence</td>\n",
       "      <td>\"Can I Train my Model on Your Computer?\"</td>\n",
       "      <td>How we waste computational resources and how t...</td>\n",
       "      <td>False</td>\n",
       "      <td>\"Can I Train my Model on Your Computer?\"How we...</td>\n",
       "      <td>[-0.013686483725905418, 0.004296026658266783, ...</td>\n",
       "      <td>3</td>\n",
       "    </tr>\n",
       "    <tr>\n",
       "      <th>5</th>\n",
       "      <td>cryptocurrency</td>\n",
       "      <td>\"Cypherpunks and Wall Street\": The Security To...</td>\n",
       "      <td>Bruce Fenton presents at the World Blockchain ...</td>\n",
       "      <td>False</td>\n",
       "      <td>\"Cypherpunks and Wall Street\": The Security To...</td>\n",
       "      <td>[-0.03146887943148613, -0.004646676126867533, ...</td>\n",
       "      <td>4</td>\n",
       "    </tr>\n",
       "  </tbody>\n",
       "</table>\n",
       "</div>"
      ],
      "text/plain": [
       "                  category                                              title  \\\n",
       "0                     work  \"21 Conversations\" - A fun (and easy) game for...   \n",
       "1             spirituality                       \"Biblical Porn\" at Mars Hill   \n",
       "2                  lgbtqia                  \"CISGENDER?! Is That A Disease?!\"   \n",
       "4  artificial-intelligence           \"Can I Train my Model on Your Computer?\"   \n",
       "5           cryptocurrency  \"Cypherpunks and Wall Street\": The Security To...   \n",
       "\n",
       "                                            subtitle  subtitle_truncated_flag  \\\n",
       "0  A (new?) Icebreaker game to get your team to s...                    False   \n",
       "1  Author and UW lecturer Jessica Johnson talks a...                    False   \n",
       "2  Or, a primer in gender vocabulary for the curi...                    False   \n",
       "4  How we waste computational resources and how t...                    False   \n",
       "5  Bruce Fenton presents at the World Blockchain ...                    False   \n",
       "\n",
       "                                      title_extended  \\\n",
       "0  \"21 Conversations\" - A fun (and easy) game for...   \n",
       "1  \"Biblical Porn\" at Mars HillAuthor and UW lect...   \n",
       "2  \"CISGENDER?! Is That A Disease?!\"Or, a primer ...   \n",
       "4  \"Can I Train my Model on Your Computer?\"How we...   \n",
       "5  \"Cypherpunks and Wall Street\": The Security To...   \n",
       "\n",
       "                                              values  id  \n",
       "0  [-0.031074408441781998, -0.014303437434136868,...   0  \n",
       "1  [-0.03467036783695221, -0.01816530153155327, -...   1  \n",
       "2  [0.03740726038813591, -0.0008568025659769773, ...   2  \n",
       "4  [-0.013686483725905418, 0.004296026658266783, ...   3  \n",
       "5  [-0.03146887943148613, -0.004646676126867533, ...   4  "
      ]
     },
     "execution_count": 29,
     "metadata": {},
     "output_type": "execute_result"
    }
   ],
   "source": [
    "df.head() #added id column"
   ]
  },
  {
   "cell_type": "code",
   "execution_count": 30,
   "id": "5d7e429f-d51e-49b1-86c4-06b5ff43be12",
   "metadata": {},
   "outputs": [],
   "source": [
    "df[\"metadata\"] = df.apply(lambda x: {\n",
    "    'title': x['title'],\n",
    "    'subtitle': x['subtitle'],\n",
    "    'category': x['category']\n",
    "}, axis=1)"
   ]
  },
  {
   "cell_type": "code",
   "execution_count": 31,
   "id": "12d46f99-7a57-4ca3-a6f2-b96496486706",
   "metadata": {},
   "outputs": [
    {
     "data": {
      "text/html": [
       "<div>\n",
       "<style scoped>\n",
       "    .dataframe tbody tr th:only-of-type {\n",
       "        vertical-align: middle;\n",
       "    }\n",
       "\n",
       "    .dataframe tbody tr th {\n",
       "        vertical-align: top;\n",
       "    }\n",
       "\n",
       "    .dataframe thead th {\n",
       "        text-align: right;\n",
       "    }\n",
       "</style>\n",
       "<table border=\"1\" class=\"dataframe\">\n",
       "  <thead>\n",
       "    <tr style=\"text-align: right;\">\n",
       "      <th></th>\n",
       "      <th>category</th>\n",
       "      <th>title</th>\n",
       "      <th>subtitle</th>\n",
       "      <th>subtitle_truncated_flag</th>\n",
       "      <th>title_extended</th>\n",
       "      <th>values</th>\n",
       "      <th>id</th>\n",
       "      <th>metadata</th>\n",
       "    </tr>\n",
       "  </thead>\n",
       "  <tbody>\n",
       "    <tr>\n",
       "      <th>0</th>\n",
       "      <td>work</td>\n",
       "      <td>\"21 Conversations\" - A fun (and easy) game for...</td>\n",
       "      <td>A (new?) Icebreaker game to get your team to s...</td>\n",
       "      <td>False</td>\n",
       "      <td>\"21 Conversations\" - A fun (and easy) game for...</td>\n",
       "      <td>[-0.031074408441781998, -0.014303437434136868,...</td>\n",
       "      <td>0</td>\n",
       "      <td>{'title': '\"21 Conversations\" - A fun (and eas...</td>\n",
       "    </tr>\n",
       "    <tr>\n",
       "      <th>1</th>\n",
       "      <td>spirituality</td>\n",
       "      <td>\"Biblical Porn\" at Mars Hill</td>\n",
       "      <td>Author and UW lecturer Jessica Johnson talks a...</td>\n",
       "      <td>False</td>\n",
       "      <td>\"Biblical Porn\" at Mars HillAuthor and UW lect...</td>\n",
       "      <td>[-0.03467036783695221, -0.01816530153155327, -...</td>\n",
       "      <td>1</td>\n",
       "      <td>{'title': '\"Biblical Porn\" at Mars Hill', 'sub...</td>\n",
       "    </tr>\n",
       "    <tr>\n",
       "      <th>2</th>\n",
       "      <td>lgbtqia</td>\n",
       "      <td>\"CISGENDER?! Is That A Disease?!\"</td>\n",
       "      <td>Or, a primer in gender vocabulary for the curi...</td>\n",
       "      <td>False</td>\n",
       "      <td>\"CISGENDER?! Is That A Disease?!\"Or, a primer ...</td>\n",
       "      <td>[0.03740726038813591, -0.0008568025659769773, ...</td>\n",
       "      <td>2</td>\n",
       "      <td>{'title': '\"CISGENDER?! Is That A Disease?!\"',...</td>\n",
       "    </tr>\n",
       "    <tr>\n",
       "      <th>4</th>\n",
       "      <td>artificial-intelligence</td>\n",
       "      <td>\"Can I Train my Model on Your Computer?\"</td>\n",
       "      <td>How we waste computational resources and how t...</td>\n",
       "      <td>False</td>\n",
       "      <td>\"Can I Train my Model on Your Computer?\"How we...</td>\n",
       "      <td>[-0.013686483725905418, 0.004296026658266783, ...</td>\n",
       "      <td>3</td>\n",
       "      <td>{'title': '\"Can I Train my Model on Your Compu...</td>\n",
       "    </tr>\n",
       "    <tr>\n",
       "      <th>5</th>\n",
       "      <td>cryptocurrency</td>\n",
       "      <td>\"Cypherpunks and Wall Street\": The Security To...</td>\n",
       "      <td>Bruce Fenton presents at the World Blockchain ...</td>\n",
       "      <td>False</td>\n",
       "      <td>\"Cypherpunks and Wall Street\": The Security To...</td>\n",
       "      <td>[-0.03146887943148613, -0.004646676126867533, ...</td>\n",
       "      <td>4</td>\n",
       "      <td>{'title': '\"Cypherpunks and Wall Street\": The ...</td>\n",
       "    </tr>\n",
       "  </tbody>\n",
       "</table>\n",
       "</div>"
      ],
      "text/plain": [
       "                  category                                              title  \\\n",
       "0                     work  \"21 Conversations\" - A fun (and easy) game for...   \n",
       "1             spirituality                       \"Biblical Porn\" at Mars Hill   \n",
       "2                  lgbtqia                  \"CISGENDER?! Is That A Disease?!\"   \n",
       "4  artificial-intelligence           \"Can I Train my Model on Your Computer?\"   \n",
       "5           cryptocurrency  \"Cypherpunks and Wall Street\": The Security To...   \n",
       "\n",
       "                                            subtitle  subtitle_truncated_flag  \\\n",
       "0  A (new?) Icebreaker game to get your team to s...                    False   \n",
       "1  Author and UW lecturer Jessica Johnson talks a...                    False   \n",
       "2  Or, a primer in gender vocabulary for the curi...                    False   \n",
       "4  How we waste computational resources and how t...                    False   \n",
       "5  Bruce Fenton presents at the World Blockchain ...                    False   \n",
       "\n",
       "                                      title_extended  \\\n",
       "0  \"21 Conversations\" - A fun (and easy) game for...   \n",
       "1  \"Biblical Porn\" at Mars HillAuthor and UW lect...   \n",
       "2  \"CISGENDER?! Is That A Disease?!\"Or, a primer ...   \n",
       "4  \"Can I Train my Model on Your Computer?\"How we...   \n",
       "5  \"Cypherpunks and Wall Street\": The Security To...   \n",
       "\n",
       "                                              values  id  \\\n",
       "0  [-0.031074408441781998, -0.014303437434136868,...   0   \n",
       "1  [-0.03467036783695221, -0.01816530153155327, -...   1   \n",
       "2  [0.03740726038813591, -0.0008568025659769773, ...   2   \n",
       "4  [-0.013686483725905418, 0.004296026658266783, ...   3   \n",
       "5  [-0.03146887943148613, -0.004646676126867533, ...   4   \n",
       "\n",
       "                                            metadata  \n",
       "0  {'title': '\"21 Conversations\" - A fun (and eas...  \n",
       "1  {'title': '\"Biblical Porn\" at Mars Hill', 'sub...  \n",
       "2  {'title': '\"CISGENDER?! Is That A Disease?!\"',...  \n",
       "4  {'title': '\"Can I Train my Model on Your Compu...  \n",
       "5  {'title': '\"Cypherpunks and Wall Street\": The ...  "
      ]
     },
     "execution_count": 31,
     "metadata": {},
     "output_type": "execute_result"
    }
   ],
   "source": [
    "df.head()"
   ]
  },
  {
   "cell_type": "code",
   "execution_count": 32,
   "id": "5f8167c6-50bd-430d-b51e-9cace4c1bc14",
   "metadata": {},
   "outputs": [],
   "source": [
    "df_upsert = df[[\"id\", \"values\", \"metadata\"]] # above pre-processing requried to upsert to db, we needed index (id), value vecotr (values), and metadata to filter (metdata)"
   ]
  },
  {
   "cell_type": "code",
   "execution_count": 35,
   "id": "13cd1654-d8f9-4a2b-a3af-dc9a31a2e9c0",
   "metadata": {},
   "outputs": [],
   "source": [
    "df_upsert.loc[:, 'id'] = df_upsert['id'].map(lambda x: str(x)) #id has to be string (index)"
   ]
  },
  {
   "cell_type": "code",
   "execution_count": 33,
   "id": "3e4be86b-2d89-410b-8c9e-68818f5f967b",
   "metadata": {},
   "outputs": [],
   "source": [
    "index = pinecone.Index('medium-data')"
   ]
  },
  {
   "cell_type": "code",
   "execution_count": 36,
   "id": "0718f9d4-2b56-40d2-bb93-d98a658726d8",
   "metadata": {},
   "outputs": [
    {
     "data": {
      "application/vnd.jupyter.widget-view+json": {
       "model_id": "70f43a6825f8462aa9b91c2a8926f2a7",
       "version_major": 2,
       "version_minor": 0
      },
      "text/plain": [
       "sending upsert requests:   0%|          | 0/6211 [00:00<?, ?it/s]"
      ]
     },
     "metadata": {},
     "output_type": "display_data"
    },
    {
     "data": {
      "text/plain": [
       "{'upserted_count': 6211}"
      ]
     },
     "execution_count": 36,
     "metadata": {},
     "output_type": "execute_result"
    }
   ],
   "source": [
    "index.upsert_from_dataframe(df_upsert)"
   ]
  },
  {
   "cell_type": "code",
   "execution_count": 37,
   "id": "2612fea8-364b-4d1e-b3e6-d41adfb87d2f",
   "metadata": {},
   "outputs": [],
   "source": [
    "### QUERY to database"
   ]
  },
  {
   "cell_type": "code",
   "execution_count": 39,
   "id": "f038ecaf-2f92-4484-8328-7f20c59e73eb",
   "metadata": {},
   "outputs": [],
   "source": [
    "xc = index.query((model.encode('Where is my cat?')).tolist(), top_k=10, include_metadata=True) #model encode into vector"
   ]
  },
  {
   "cell_type": "code",
   "execution_count": 43,
   "id": "46ee6ac2-466c-4fa7-8e72-f56c84dbc210",
   "metadata": {},
   "outputs": [
    {
     "name": "stdout",
     "output_type": "stream",
     "text": [
      "0.52: Allow Yourself To Get Another Pet And See What Happens\n",
      "0.49: A Mutual Rescue Mission\n",
      "0.45: A Cat Taught Me A Lesson About My Intense Need For Approval\n",
      "0.41: A Letter to My Boss on Why I Couldn’t Work Today\n",
      "0.38: A Tale of Two Kitties: My Experience and Tips for Moving Abroad with Pets\n",
      "0.38: A Eulogy to my Dead Cat and Immortality\n",
      "0.36: A Day in the Catskills with Miriam\n",
      "0.36: A Trip to the Westminster Dog Show\n",
      "0.35: Across The Pond\n",
      "0.34: A Pet Named Anxiety\n"
     ]
    }
   ],
   "source": [
    "for result in xc['matches']:\n",
    "    print(f\"{round(result['score'], 2)}: {result['metadata']['title']}\")"
   ]
  },
  {
   "cell_type": "code",
   "execution_count": 44,
   "id": "4d919f7c-05fc-4d0f-a05b-276473c11ca0",
   "metadata": {},
   "outputs": [
    {
     "name": "stdout",
     "output_type": "stream",
     "text": [
      "0.52: While my cat could never be replaced, I could fill the hole he left in my life.\n",
      "0.49: On the cats who saved me\n",
      "0.45: And all I wanted was a cuddle.\n",
      "0.41: My cat conspired against me.\n",
      "0.38: “Didn’t they have to go into quarantine?”\n",
      "0.38: A meditation on death, life, and the time in-between.\n",
      "0.36: If only he could write her story\n",
      "0.36: Ruth and I go to the big show!\n",
      "0.35: Romance in the city.\n",
      "0.34: There are only two reasons I am telling this story.\n"
     ]
    }
   ],
   "source": [
    "for result in xc['matches']:\n",
    "    print(f\"{round(result['score'], 2)}: {result['metadata']['subtitle']}\")"
   ]
  },
  {
   "cell_type": "code",
   "execution_count": 45,
   "id": "bf825112-af63-4b80-ab3e-cfa3f674b570",
   "metadata": {},
   "outputs": [
    {
     "name": "stdout",
     "output_type": "stream",
     "text": [
      "0.52: Allow Yourself To Get Another Pet And See What Happens: pets\n",
      "0.49: A Mutual Rescue Mission: mental-health\n",
      "0.45: A Cat Taught Me A Lesson About My Intense Need For Approval: pets\n",
      "0.41: A Letter to My Boss on Why I Couldn’t Work Today: fiction\n",
      "0.38: A Tale of Two Kitties: My Experience and Tips for Moving Abroad with Pets: pets\n",
      "0.38: A Eulogy to my Dead Cat and Immortality: philosophy\n",
      "0.36: A Day in the Catskills with Miriam: fiction\n",
      "0.36: A Trip to the Westminster Dog Show: comics\n",
      "0.35: Across The Pond: fiction\n",
      "0.34: A Pet Named Anxiety: lifestyle\n"
     ]
    }
   ],
   "source": [
    "for result in xc['matches']:\n",
    "    print(f\"{round(result['score'], 2)}: {result['metadata']['title']}: {result['metadata']['category']}\")"
   ]
  },
  {
   "cell_type": "code",
   "execution_count": 46,
   "id": "3e526f1d-4368-487e-9ed7-25fe05497aaf",
   "metadata": {},
   "outputs": [],
   "source": [
    "xc2 = index.query((model.encode('Which city is the most beautiful?')).tolist(), top_k=10, include_metadata=True)"
   ]
  },
  {
   "cell_type": "code",
   "execution_count": 47,
   "id": "0d7856d6-7827-4560-8327-3668bbe98963",
   "metadata": {},
   "outputs": [
    {
     "name": "stdout",
     "output_type": "stream",
     "text": [
      "0.57: 3 Places Where You Can Find Beauty: photography\n",
      "0.52: A Shining City on a Hill: politics\n",
      "0.46: 6 Easy Reasons to Enjoy Exploring South Wales: travel\n",
      "0.43: A City That’s Better for the Blind Is Better for Everyone: accessibility\n",
      "0.42: Across The Pond: fiction\n",
      "0.41: Ace Hotel: A UX Case Study: ux\n",
      "0.41: A Most Beautiful Game: sports\n",
      "0.41: 6 Literary Cities for Book Lovers To Visit This Year: travel\n",
      "0.4: A city and its architecture: cities\n",
      "0.38: Adaptive urban design: design\n"
     ]
    }
   ],
   "source": [
    "for result in xc2['matches']:\n",
    "    print(f\"{round(result['score'], 2)}: {result['metadata']['title']}: {result['metadata']['category']}\")"
   ]
  },
  {
   "cell_type": "code",
   "execution_count": null,
   "id": "b58d73a9-d0ce-4f98-a08d-deb473a6e8b4",
   "metadata": {},
   "outputs": [],
   "source": []
  }
 ],
 "metadata": {
  "kernelspec": {
   "display_name": "Python 3 (ipykernel)",
   "language": "python",
   "name": "python3"
  },
  "language_info": {
   "codemirror_mode": {
    "name": "ipython",
    "version": 3
   },
   "file_extension": ".py",
   "mimetype": "text/x-python",
   "name": "python",
   "nbconvert_exporter": "python",
   "pygments_lexer": "ipython3",
   "version": "3.10.13"
  }
 },
 "nbformat": 4,
 "nbformat_minor": 5
}
