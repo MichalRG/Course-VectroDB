{
 "cells": [
  {
   "cell_type": "code",
   "execution_count": 1,
   "id": "63fd8732-2c44-4d17-abc8-2ae608b31f05",
   "metadata": {},
   "outputs": [],
   "source": [
    "import chromadb\n",
    "# tunning chroma db with custom setting\n",
    "from chromadb.config import Settings"
   ]
  },
  {
   "cell_type": "code",
   "execution_count": 2,
   "id": "e4f8c979-fcaf-44b6-b5cc-a14acf9e013d",
   "metadata": {},
   "outputs": [],
   "source": [
    "import pandas as pd\n",
    "df = pd.read_csv(\"medium_post_titles.csv\")\n",
    "df = df.dropna()\n",
    "df = df[-df[\"subtitle_truncated_flag\"]]\n",
    "topics_of_interest = [\"artificial-intelligence\", \"machine-learning\", \"data-science\"]\n",
    "df=df[df[\"category\"].isin(topics_of_interest)]\n",
    "df[\"text\"]=df[\"title\"]+df[\"subtitle\"]\n",
    "df[\"meta\"] =df.apply( lambda x: {\n",
    "    \"text\": x[\"text\"],\n",
    "    \"category\": x[\"category\"]\n",
    "}, axis=1)"
   ]
  },
  {
   "cell_type": "code",
   "execution_count": 3,
   "id": "cbd44a6d-25c9-49ee-8014-1ebe9ec14f30",
   "metadata": {},
   "outputs": [],
   "source": [
    "# chroma_client = chromadb.Client(Settings(\n",
    "#     persist_directory=\"medium-chroma-db\", #place where db will be saved in current working directory\n",
    "#     chroma_db_impl=\"duckdb+parquet\" #default value\n",
    "# ))\n",
    "chroma_client = chromadb.PersistentClient(path=\"medium-chroma-db\") # poza pamiecia na dysku # persistent memory\n",
    "\n",
    "article_collection = chroma_client.create_collection(name=\"medium_article\")"
   ]
  },
  {
   "cell_type": "code",
   "execution_count": 4,
   "id": "1d511892-44b8-4b3b-b24d-9363b305eaa2",
   "metadata": {},
   "outputs": [],
   "source": [
    "#inserting data\n",
    "article_collection.upsert(\n",
    "    ids=[f\"{x}\" for x in df.index.tolist()],\n",
    "    documents=df[\"text\"].tolist(),\n",
    "    metadatas = df[\"meta\"].tolist()\n",
    ")"
   ]
  },
  {
   "cell_type": "code",
   "execution_count": 5,
   "id": "808602b0-4380-45da-b00c-fd8c4561438d",
   "metadata": {},
   "outputs": [
    {
     "data": {
      "text/plain": [
       "{'ids': [['65427', '2586']],\n",
       " 'distances': [[0.6087137460708618, 0.6778908967971802]],\n",
       " 'metadatas': [[{'category': 'data-science',\n",
       "    'text': 'My Favorite Data Science/Machine Learning ResourcesA summary of sources to get into Data Science'},\n",
       "   {'category': 'artificial-intelligence',\n",
       "    'text': '5 Resources to Inspire Your Next Data Science ProjectDon’t worry — getting started is the hardest part'}]],\n",
       " 'embeddings': None,\n",
       " 'documents': [['My Favorite Data Science/Machine Learning ResourcesA summary of sources to get into Data Science',\n",
       "   '5 Resources to Inspire Your Next Data Science ProjectDon’t worry — getting started is the hardest part']],\n",
       " 'uris': None,\n",
       " 'data': None}"
      ]
     },
     "execution_count": 5,
     "metadata": {},
     "output_type": "execute_result"
    }
   ],
   "source": [
    "qry_str =  \"best data science library?\"\n",
    "article_collection.query(query_texts=qry_str, n_results=2) "
   ]
  },
  {
   "cell_type": "code",
   "execution_count": null,
   "id": "0b0ea0ca-daca-4339-a78c-e8f35177254b",
   "metadata": {},
   "outputs": [],
   "source": []
  }
 ],
 "metadata": {
  "kernelspec": {
   "display_name": "Python 3 (ipykernel)",
   "language": "python",
   "name": "python3"
  },
  "language_info": {
   "codemirror_mode": {
    "name": "ipython",
    "version": 3
   },
   "file_extension": ".py",
   "mimetype": "text/x-python",
   "name": "python",
   "nbconvert_exporter": "python",
   "pygments_lexer": "ipython3",
   "version": "3.10.13"
  }
 },
 "nbformat": 4,
 "nbformat_minor": 5
}
