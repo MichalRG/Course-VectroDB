{
 "cells": [
  {
   "cell_type": "code",
   "execution_count": 1,
   "id": "a31e00cf-3b33-41a5-bbc8-8fb27fa8eac7",
   "metadata": {},
   "outputs": [],
   "source": [
    "import sqlite3"
   ]
  },
  {
   "cell_type": "code",
   "execution_count": 2,
   "id": "b1377b72-e55d-4f3b-984b-424d2f831461",
   "metadata": {},
   "outputs": [],
   "source": [
    "#create connection to the SQLite DB\n",
    "conn = sqlite3.connect('test.db')"
   ]
  },
  {
   "cell_type": "code",
   "execution_count": 3,
   "id": "f79a5c16-0270-4511-a0f2-56a06446cef9",
   "metadata": {},
   "outputs": [
    {
     "data": {
      "text/plain": [
       "<sqlite3.Connection at 0x200eb54ab60>"
      ]
     },
     "execution_count": 3,
     "metadata": {},
     "output_type": "execute_result"
    }
   ],
   "source": [
    "conn"
   ]
  },
  {
   "cell_type": "code",
   "execution_count": 4,
   "id": "3d177b54-9375-434e-bea6-8e420f3424a8",
   "metadata": {},
   "outputs": [],
   "source": [
    "# Create a cursor object to execute SQL Commands\n",
    "cursor = conn.cursor()"
   ]
  },
  {
   "cell_type": "code",
   "execution_count": 5,
   "id": "10430cd2-f262-4e87-84a3-41f27ca05a9b",
   "metadata": {},
   "outputs": [
    {
     "data": {
      "text/plain": [
       "<sqlite3.Cursor at 0x200ec72d540>"
      ]
     },
     "execution_count": 5,
     "metadata": {},
     "output_type": "execute_result"
    }
   ],
   "source": [
    "# Create a table\n",
    "cursor.execute(\n",
    "    \"\"\"\n",
    "    CREATE TABLE IF NOT EXISTS employees (\n",
    "    id INTEGER PRIMARY KEY,\n",
    "    name TEXT NOT NULL,\n",
    "    age INTEGER,\n",
    "    department TEXT\n",
    "    )\n",
    "    \"\"\"\n",
    ")"
   ]
  },
  {
   "cell_type": "code",
   "execution_count": 8,
   "id": "231f16ee-0f7c-417c-b19f-44d0323886a3",
   "metadata": {},
   "outputs": [
    {
     "data": {
      "text/plain": [
       "<sqlite3.Cursor at 0x200ec72d540>"
      ]
     },
     "execution_count": 8,
     "metadata": {},
     "output_type": "execute_result"
    }
   ],
   "source": [
    "# Insert data into table\n",
    "cursor.execute(\n",
    "\"INSERT INTO employees (name,age,department) VALUES (?,?,?)\", \n",
    "('John Doe', 30, 'Sales')\n",
    ")"
   ]
  },
  {
   "cell_type": "code",
   "execution_count": 9,
   "id": "16df43ef-125e-474e-b32d-e132efc4ed6a",
   "metadata": {},
   "outputs": [
    {
     "data": {
      "text/plain": [
       "<sqlite3.Cursor at 0x200ec72d540>"
      ]
     },
     "execution_count": 9,
     "metadata": {},
     "output_type": "execute_result"
    }
   ],
   "source": [
    "# Retreive data\n",
    "cursor.execute(\"SELECT * FROM employees\")"
   ]
  },
  {
   "cell_type": "code",
   "execution_count": 10,
   "id": "acfaf5ba-14f5-4bd0-985e-58cd25f8163b",
   "metadata": {},
   "outputs": [],
   "source": [
    "rows = cursor.fetchall()"
   ]
  },
  {
   "cell_type": "code",
   "execution_count": 11,
   "id": "749f0001-b5b6-46ed-a03d-2873797e1249",
   "metadata": {},
   "outputs": [
    {
     "data": {
      "text/plain": [
       "[(1, 'John Doe', 30, 'Sales')]"
      ]
     },
     "execution_count": 11,
     "metadata": {},
     "output_type": "execute_result"
    }
   ],
   "source": [
    "rows"
   ]
  },
  {
   "cell_type": "code",
   "execution_count": 12,
   "id": "de0157f7-f0c9-41b1-8913-8114f859407c",
   "metadata": {},
   "outputs": [],
   "source": [
    "conn.commit()"
   ]
  },
  {
   "cell_type": "code",
   "execution_count": 13,
   "id": "83d82088-c34e-44f9-85ba-a92c6f95440a",
   "metadata": {},
   "outputs": [],
   "source": [
    "conn.close()"
   ]
  },
  {
   "cell_type": "code",
   "execution_count": 2,
   "id": "d34e1c46-e983-4082-bea9-65eee4704f27",
   "metadata": {},
   "outputs": [],
   "source": [
    "import numpy as np"
   ]
  },
  {
   "cell_type": "code",
   "execution_count": 3,
   "id": "87f6263b-76cd-4103-8ba8-1c058b70439e",
   "metadata": {},
   "outputs": [],
   "source": [
    "#creating connection\n",
    "conn = sqlite3.connect('vector-db-test.db')\n",
    "#creating cursor to execute commands\n",
    "cursor=conn.cursor()"
   ]
  },
  {
   "cell_type": "code",
   "execution_count": 4,
   "id": "2c65b5a4-a4a0-446b-a03f-561a04643dee",
   "metadata": {},
   "outputs": [
    {
     "data": {
      "text/plain": [
       "<sqlite3.Cursor at 0x1bc33d79a40>"
      ]
     },
     "execution_count": 4,
     "metadata": {},
     "output_type": "execute_result"
    }
   ],
   "source": [
    "# BLOB - FLOAT\n",
    "cursor.execute(\n",
    "\"\"\"\n",
    "    CREATE TABLE IF NOT EXISTS vectors (\n",
    "        id INTEGER PRIMARY KEY,\n",
    "        vector BLOB NOT NULL\n",
    "    )\n",
    "\"\"\"    \n",
    ")"
   ]
  },
  {
   "cell_type": "code",
   "execution_count": 5,
   "id": "7dc80167-9fb4-45dc-b484-b9dcc7ca299d",
   "metadata": {},
   "outputs": [],
   "source": [
    "# generate some sample vectors\n",
    "vect1 = np.array([1.2,3.4,2.1,0.8])\n",
    "vect2 = np.array([2.7,1.5,3.9,2.3])"
   ]
  },
  {
   "cell_type": "code",
   "execution_count": 9,
   "id": "6ecea862-7aeb-4859-aba6-29e52bf6a195",
   "metadata": {},
   "outputs": [
    {
     "data": {
      "text/plain": [
       "b'333333\\xf3?333333\\x0b@\\xcd\\xcc\\xcc\\xcc\\xcc\\xcc\\x00@\\x9a\\x99\\x99\\x99\\x99\\x99\\xe9?'"
      ]
     },
     "execution_count": 9,
     "metadata": {},
     "output_type": "execute_result"
    }
   ],
   "source": [
    "vect1.tobytes()"
   ]
  },
  {
   "cell_type": "code",
   "execution_count": 10,
   "id": "7d9dce77-c88d-4168-9762-b8ceef38a5f5",
   "metadata": {},
   "outputs": [
    {
     "data": {
      "text/plain": [
       "<sqlite3.Cursor at 0x1bc33d79a40>"
      ]
     },
     "execution_count": 10,
     "metadata": {},
     "output_type": "execute_result"
    }
   ],
   "source": [
    "cursor.execute(\n",
    "    \"INSERT INTO vectors (vector) VALUES (?)\",\n",
    "    (sqlite3.Binary(vect1.tobytes()),) #it requires to parse it into binary objects, bytes to store them in vector db\n",
    ")"
   ]
  },
  {
   "cell_type": "code",
   "execution_count": 11,
   "id": "ec44bd60-e89c-4102-9a70-ebcf54cf803c",
   "metadata": {},
   "outputs": [
    {
     "data": {
      "text/plain": [
       "<sqlite3.Cursor at 0x1bc33d79a40>"
      ]
     },
     "execution_count": 11,
     "metadata": {},
     "output_type": "execute_result"
    }
   ],
   "source": [
    "cursor.execute(\n",
    "    \"INSERT INTO vectors (vector) VALUES (?)\",\n",
    "    (sqlite3.Binary(vect2.tobytes()),)\n",
    ")"
   ]
  },
  {
   "cell_type": "code",
   "execution_count": 12,
   "id": "86005d3f-5bbd-47b2-b68b-8754de6c50d8",
   "metadata": {},
   "outputs": [
    {
     "data": {
      "text/plain": [
       "<sqlite3.Cursor at 0x1bc33d79a40>"
      ]
     },
     "execution_count": 12,
     "metadata": {},
     "output_type": "execute_result"
    }
   ],
   "source": [
    "#retriving data\n",
    "cursor.execute(\"SELECT vector FROM vectors\")"
   ]
  },
  {
   "cell_type": "code",
   "execution_count": 13,
   "id": "0ec74b5d-46ac-4464-87f6-b3152e311052",
   "metadata": {},
   "outputs": [
    {
     "data": {
      "text/plain": [
       "[(b'333333\\xf3?333333\\x0b@\\xcd\\xcc\\xcc\\xcc\\xcc\\xcc\\x00@\\x9a\\x99\\x99\\x99\\x99\\x99\\xe9?',),\n",
       " (b'\\x9a\\x99\\x99\\x99\\x99\\x99\\x05@\\x00\\x00\\x00\\x00\\x00\\x00\\xf8?333333\\x0f@ffffff\\x02@',)]"
      ]
     },
     "execution_count": 13,
     "metadata": {},
     "output_type": "execute_result"
    }
   ],
   "source": [
    "rows = cursor.fetchall()\n",
    "rows"
   ]
  },
  {
   "cell_type": "code",
   "execution_count": 14,
   "id": "58802168-9465-41c1-b13b-be308f4a71bd",
   "metadata": {},
   "outputs": [],
   "source": [
    "#retiving from bytes to float\n",
    "vector = np.frombuffer(rows[0][0], dtype = np.float64)"
   ]
  },
  {
   "cell_type": "code",
   "execution_count": 15,
   "id": "2d065b72-43cb-4ff1-a1b8-e4ba84555a70",
   "metadata": {},
   "outputs": [
    {
     "data": {
      "text/plain": [
       "array([1.2, 3.4, 2.1, 0.8])"
      ]
     },
     "execution_count": 15,
     "metadata": {},
     "output_type": "execute_result"
    }
   ],
   "source": [
    "vector"
   ]
  },
  {
   "cell_type": "code",
   "execution_count": 16,
   "id": "18956069-bc76-4b5b-b965-42ab50e3c156",
   "metadata": {},
   "outputs": [
    {
     "data": {
      "text/plain": [
       "array([2.7, 1.5, 3.9, 2.3])"
      ]
     },
     "execution_count": 16,
     "metadata": {},
     "output_type": "execute_result"
    }
   ],
   "source": [
    "vector2 = np.frombuffer(rows[1][0], dtype = np.float64)\n",
    "vector2"
   ]
  },
  {
   "cell_type": "code",
   "execution_count": 17,
   "id": "d7534b86-980b-40b3-9334-0027ff291a54",
   "metadata": {},
   "outputs": [],
   "source": [
    "vectors = []\n",
    "for row in rows:\n",
    "    vector = np.frombuffer(row[0], dtype=np.float64)\n",
    "    vectors.append(vector)"
   ]
  },
  {
   "cell_type": "code",
   "execution_count": 18,
   "id": "1ab2c81d-1c31-49c5-99ed-817eb2a6e14a",
   "metadata": {},
   "outputs": [
    {
     "data": {
      "text/plain": [
       "[array([1.2, 3.4, 2.1, 0.8]), array([2.7, 1.5, 3.9, 2.3])]"
      ]
     },
     "execution_count": 18,
     "metadata": {},
     "output_type": "execute_result"
    }
   ],
   "source": [
    "vectors"
   ]
  },
  {
   "cell_type": "code",
   "execution_count": 19,
   "id": "b3e379a1-6a6a-4d9c-8a96-b1da50b56489",
   "metadata": {},
   "outputs": [],
   "source": [
    "#Vector Similiarity Search (VSS)"
   ]
  },
  {
   "cell_type": "code",
   "execution_count": 20,
   "id": "f59729b6-b5ee-4837-a079-1c96f8bfbf4b",
   "metadata": {},
   "outputs": [],
   "source": [
    "query_vect = np.array([1.0, 3.2, 2.0, 0.5])"
   ]
  },
  {
   "cell_type": "code",
   "execution_count": 21,
   "id": "4703d2d0-f276-4f1c-af9a-d585f3236f78",
   "metadata": {},
   "outputs": [
    {
     "data": {
      "text/plain": [
       "<sqlite3.Cursor at 0x1bc33d79a40>"
      ]
     },
     "execution_count": 21,
     "metadata": {},
     "output_type": "execute_result"
    }
   ],
   "source": [
    "cursor.execute(\"\"\"\n",
    "    SELECT vector FROM vectors ORDER BY abs(vector - ?) ASC\n",
    "\"\"\", (sqlite3.Binary(query_vect.tobytes()),)) #ORDER BY i szukamy absolut roznicy (odleglosci miedzy vectorem tym a tym z argumentu"
   ]
  },
  {
   "cell_type": "code",
   "execution_count": 22,
   "id": "98bb487d-60e6-413f-8edd-e0cd6a5fa7b9",
   "metadata": {},
   "outputs": [],
   "source": [
    "res = cursor.fetchone()"
   ]
  },
  {
   "cell_type": "code",
   "execution_count": 23,
   "id": "cff29672-37b5-4a41-a1f5-4765eb622ebf",
   "metadata": {},
   "outputs": [
    {
     "data": {
      "text/plain": [
       "array([2.7, 1.5, 3.9, 2.3])"
      ]
     },
     "execution_count": 23,
     "metadata": {},
     "output_type": "execute_result"
    }
   ],
   "source": [
    "np.frombuffer(res[0], dtype=np.float64)"
   ]
  },
  {
   "cell_type": "code",
   "execution_count": 24,
   "id": "4277a59b-0a27-4af0-9c12-cc89adc55ad5",
   "metadata": {},
   "outputs": [],
   "source": [
    "#powyzsze obliczenia to abs dystans, ale moglby to by byc dot product/ euclidian distance etc"
   ]
  },
  {
   "cell_type": "code",
   "execution_count": null,
   "id": "8eba69bb-8af9-421f-bc24-cb91c5024227",
   "metadata": {},
   "outputs": [],
   "source": []
  }
 ],
 "metadata": {
  "kernelspec": {
   "display_name": "Python 3 (ipykernel)",
   "language": "python",
   "name": "python3"
  },
  "language_info": {
   "codemirror_mode": {
    "name": "ipython",
    "version": 3
   },
   "file_extension": ".py",
   "mimetype": "text/x-python",
   "name": "python",
   "nbconvert_exporter": "python",
   "pygments_lexer": "ipython3",
   "version": "3.10.13"
  }
 },
 "nbformat": 4,
 "nbformat_minor": 5
}
