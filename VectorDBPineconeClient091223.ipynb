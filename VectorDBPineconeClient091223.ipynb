{
 "cells": [
  {
   "cell_type": "code",
   "execution_count": 2,
   "id": "22baea67-7e9b-4ea1-b008-18e376a30d1b",
   "metadata": {},
   "outputs": [],
   "source": [
    "import tqdm.auto\n",
    "import pinecone"
   ]
  },
  {
   "cell_type": "code",
   "execution_count": 4,
   "id": "69b62ad8-5065-4f2a-af32-cb8c7a5e1f4b",
   "metadata": {},
   "outputs": [],
   "source": [
    "pinecone.init(api_key = \"COPY_API_KEY_FROM_PINECONE\", environment = 'gcp-starter')"
   ]
  },
  {
   "cell_type": "code",
   "execution_count": 5,
   "id": "5a6902a9-3bb8-4939-bd86-e1064bf9340e",
   "metadata": {},
   "outputs": [],
   "source": [
    "pinecone.create_index(name = \"hello-pinecone\", dimension = 4, metric = 'cosine')"
   ]
  },
  {
   "cell_type": "code",
   "execution_count": 6,
   "id": "e74ff54f-c5f9-4da2-a700-6de336a9f3da",
   "metadata": {},
   "outputs": [
    {
     "data": {
      "text/plain": [
       "['hello-pinecone']"
      ]
     },
     "execution_count": 6,
     "metadata": {},
     "output_type": "execute_result"
    }
   ],
   "source": [
    "pinecone.list_indexes()"
   ]
  },
  {
   "cell_type": "code",
   "execution_count": 1,
   "id": "bf370278-56fc-4a66-bd36-3fd751a98ed0",
   "metadata": {},
   "outputs": [],
   "source": [
    "import tqdm.auto\n",
    "import pinecone"
   ]
  },
  {
   "cell_type": "code",
   "execution_count": 2,
   "id": "21a81e79-9492-4ee4-9324-90051394708f",
   "metadata": {},
   "outputs": [],
   "source": [
    "pinecone.init(api_key = \"7caf414d-566e-4fb3-8c33-a7e3c7a17a14\", environment = 'gcp-starter')"
   ]
  },
  {
   "cell_type": "code",
   "execution_count": 3,
   "id": "4a7add68-e7f5-4805-9f54-66649872a7cd",
   "metadata": {},
   "outputs": [],
   "source": [
    "pinecone.create_index(name = \"insert\", dimension = 3, metric = 'cosine')"
   ]
  },
  {
   "cell_type": "code",
   "execution_count": 4,
   "id": "b0c20f7d-aec9-4428-b83f-0781cd6f7471",
   "metadata": {},
   "outputs": [],
   "source": [
    "vectors = [[1,3,4],[5,6,7],[8,9,0]]"
   ]
  },
  {
   "cell_type": "code",
   "execution_count": 5,
   "id": "98c876e7-ef68-4edc-b88c-9f1bea59f063",
   "metadata": {},
   "outputs": [],
   "source": [
    "vect_ids = [\"vec1\",\"vec2\",\"vec3\"]"
   ]
  },
  {
   "cell_type": "code",
   "execution_count": 6,
   "id": "ad0672dc-4ccc-43d8-a46e-5e8307315c8a",
   "metadata": {},
   "outputs": [
    {
     "data": {
      "text/plain": [
       "['insert']"
      ]
     },
     "execution_count": 6,
     "metadata": {},
     "output_type": "execute_result"
    }
   ],
   "source": [
    "pinecone.list_indexes()"
   ]
  },
  {
   "cell_type": "code",
   "execution_count": 7,
   "id": "a9da1cb6-712b-40a7-9695-3b22876ed5b8",
   "metadata": {},
   "outputs": [],
   "source": [
    "idx = pinecone.Index(\"insert\") #link do indeksu"
   ]
  },
  {
   "cell_type": "code",
   "execution_count": 8,
   "id": "d4486a44-5e2a-45cb-9bc3-89d3ca1ec24b",
   "metadata": {},
   "outputs": [
    {
     "data": {
      "text/plain": [
       "{'upserted_count': 3}"
      ]
     },
     "execution_count": 8,
     "metadata": {},
     "output_type": "execute_result"
    }
   ],
   "source": [
    "idx.upsert([\n",
    "    ('vec1', [1,3,4]), #tuple => (id, value)\n",
    "    ('vec2', [5,6,7]),\n",
    "    ('vec3', [8,9,0])\n",
    "]) #list of cectors (tuples) to add"
   ]
  },
  {
   "cell_type": "code",
   "execution_count": 9,
   "id": "0f19465d-418a-4f08-beb9-c8c331157199",
   "metadata": {},
   "outputs": [
    {
     "data": {
      "text/plain": [
       "['insert']"
      ]
     },
     "execution_count": 9,
     "metadata": {},
     "output_type": "execute_result"
    }
   ],
   "source": [
    "#Insert & Update\n",
    "pinecone.list_indexes()"
   ]
  },
  {
   "cell_type": "code",
   "execution_count": 10,
   "id": "773cbdab-0928-499e-8013-b17487adb6a9",
   "metadata": {},
   "outputs": [
    {
     "data": {
      "text/plain": [
       "{'upserted_count': 5}"
      ]
     },
     "execution_count": 10,
     "metadata": {},
     "output_type": "execute_result"
    }
   ],
   "source": [
    "idx.upsert(vectors = [\n",
    "    (\"A\", [0.1,0.1,0.1]),\n",
    "    (\"B\", [0.2,0.2,0.2]),\n",
    "    (\"C\", [0.3,0.3,0.3]),\n",
    "    (\"D\", [0.4,0.4,0.4]),\n",
    "    (\"E\", [0.5,0.5,0.5])\n",
    "])"
   ]
  },
  {
   "cell_type": "code",
   "execution_count": 11,
   "id": "d4510b7b-9776-42f5-a7a0-64c4a8ee7e1d",
   "metadata": {},
   "outputs": [
    {
     "data": {
      "text/plain": [
       "{}"
      ]
     },
     "execution_count": 11,
     "metadata": {},
     "output_type": "execute_result"
    }
   ],
   "source": [
    "idx.update(id='E', values=[0.55,0.55,0.55])"
   ]
  },
  {
   "cell_type": "code",
   "execution_count": 12,
   "id": "3c812515-e1a5-4269-87e0-bd9b5471f38e",
   "metadata": {},
   "outputs": [],
   "source": [
    "#Query Vector"
   ]
  },
  {
   "cell_type": "code",
   "execution_count": 14,
   "id": "069b53a1-da94-48a7-bff3-901ba9813799",
   "metadata": {},
   "outputs": [
    {
     "data": {
      "text/plain": [
       "{'matches': [{'id': 'D', 'score': 1.00000012, 'values': [0.4, 0.4, 0.4]},\n",
       "             {'id': 'A', 'score': 1.00000012, 'values': [0.1, 0.1, 0.1]}],\n",
       " 'namespace': ''}"
      ]
     },
     "execution_count": 14,
     "metadata": {},
     "output_type": "execute_result"
    }
   ],
   "source": [
    "idx.query([0.5,0.5,0.5], top_k=2, include_values=True) #top_k means amount of vectors to return"
   ]
  },
  {
   "cell_type": "code",
   "execution_count": 15,
   "id": "4dc1facd-34d3-4260-a728-8aabdcce5d29",
   "metadata": {},
   "outputs": [],
   "source": [
    "#fetch vector by id"
   ]
  },
  {
   "cell_type": "code",
   "execution_count": 18,
   "id": "75cb1140-a5c6-4385-8b77-47046f14b837",
   "metadata": {},
   "outputs": [
    {
     "data": {
      "text/plain": [
       "{'namespace': '',\n",
       " 'vectors': {'A': {'id': 'A', 'values': [0.1, 0.1, 0.1]},\n",
       "             'E': {'id': 'E', 'values': [0.55, 0.55, 0.55]}}}"
      ]
     },
     "execution_count": 18,
     "metadata": {},
     "output_type": "execute_result"
    }
   ],
   "source": [
    "idx.fetch(ids=['E', 'A'])"
   ]
  },
  {
   "cell_type": "code",
   "execution_count": 17,
   "id": "29940113-fe87-4b2e-ac2a-0398a45f9546",
   "metadata": {},
   "outputs": [],
   "source": [
    "#delete vector"
   ]
  },
  {
   "cell_type": "code",
   "execution_count": 19,
   "id": "89c901ab-2194-4007-9c20-2cccd0ea26ca",
   "metadata": {},
   "outputs": [
    {
     "data": {
      "text/plain": [
       "{}"
      ]
     },
     "execution_count": 19,
     "metadata": {},
     "output_type": "execute_result"
    }
   ],
   "source": [
    "idx.delete(ids=['A'])"
   ]
  },
  {
   "cell_type": "code",
   "execution_count": 20,
   "id": "e710e8de-2e3c-4871-afcf-ff35b30b421b",
   "metadata": {},
   "outputs": [
    {
     "data": {
      "text/plain": [
       "{}"
      ]
     },
     "execution_count": 20,
     "metadata": {},
     "output_type": "execute_result"
    }
   ],
   "source": [
    "idx.delete(delete_all=True)"
   ]
  },
  {
   "cell_type": "code",
   "execution_count": null,
   "id": "32391ae6-7f36-40ad-bbae-478376d2d596",
   "metadata": {},
   "outputs": [],
   "source": []
  }
 ],
 "metadata": {
  "kernelspec": {
   "display_name": "Python 3 (ipykernel)",
   "language": "python",
   "name": "python3"
  },
  "language_info": {
   "codemirror_mode": {
    "name": "ipython",
    "version": 3
   },
   "file_extension": ".py",
   "mimetype": "text/x-python",
   "name": "python",
   "nbconvert_exporter": "python",
   "pygments_lexer": "ipython3",
   "version": "3.10.13"
  }
 },
 "nbformat": 4,
 "nbformat_minor": 5
}
